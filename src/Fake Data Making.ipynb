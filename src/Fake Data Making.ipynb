{
 "cells": [
  {
   "cell_type": "code",
   "execution_count": null,
   "id": "89eddf96",
   "metadata": {},
   "outputs": [],
   "source": [
    "import pandas as pd\n",
    "import numpy as np\n",
    "import random\n",
    "from faker import Faker\n",
    "\n",
    "# Initialize Faker to generate fake data\n",
    "fake = Faker()\n",
    "\n",
    "# Function to generate random movie data\n",
    "def generate_movie_data(num_movies):\n",
    "    data = []\n",
    "    for _ in range(num_movies):\n",
    "        title = fake.sentence(nb_words=3, variable_nb_words=True, ext_word_list=None)\n",
    "        description = fake.paragraph(nb_sentences=3, variable_nb_sentences=True, ext_word_list=None)\n",
    "        genres = random.sample(['Action', 'Drama', 'Comedy', 'Thriller', 'Horror', 'Adventure', 'Sci-Fi'], 2)\n",
    "        keywords = random.sample(['love', 'friendship', 'mystery', 'crime', 'family', 'adventure', 'romance'], 3)\n",
    "        cast = [fake.name() for _ in range(random.randint(3, 8))]\n",
    "        director = fake.name()\n",
    "        release_date = fake.date_between(start_date='-10y', end_date='today')\n",
    "        ratings = round(random.uniform(1, 10), 1)\n",
    "        popularity = random.randint(1, 100)\n",
    "        budget = random.randint(1000000, 100000000)\n",
    "        revenue = random.randint(1000000, 500000000)\n",
    "        runtime = random.randint(60, 180)\n",
    "        \n",
    "        data.append([title, description, genres, keywords, cast, director, release_date, ratings, popularity, budget, revenue, runtime])\n",
    "    \n",
    "    return data\n",
    "\n",
    "# Generate movie data\n",
    "movies_data = generate_movie_data(1000)\n",
    "\n",
    "# Create DataFrame\n",
    "columns = ['Title', 'Description', 'Genres', 'Keywords', 'Cast', 'Director', 'Release_Date', 'Ratings', 'Popularity', 'Budget', 'Revenue', 'Runtime']\n",
    "movies_df = pd.DataFrame(movies_data, columns=columns)\n",
    "\n",
    "# Save DataFrame to CSV\n",
    "movies_df.to_csv('/home/mustafa/internship/CodeClause · Internship/CodeClauseInternship_Movie Recommendation System/Datasets/movies_dataset.csv', index=False)\n"
   ]
  }
 ],
 "metadata": {
  "kernelspec": {
   "display_name": "Python 3 (ipykernel)",
   "language": "python",
   "name": "python3"
  },
  "language_info": {
   "codemirror_mode": {
    "name": "ipython",
    "version": 3
   },
   "file_extension": ".py",
   "mimetype": "text/x-python",
   "name": "python",
   "nbconvert_exporter": "python",
   "pygments_lexer": "ipython3",
   "version": "3.9.12"
  }
 },
 "nbformat": 4,
 "nbformat_minor": 5
}
